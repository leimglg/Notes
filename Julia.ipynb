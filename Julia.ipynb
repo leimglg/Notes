{
 "cells": [
  {
   "cell_type": "code",
   "execution_count": 3,
   "metadata": {},
   "outputs": [],
   "source": [
    "using LinearAlgebra"
   ]
  },
  {
   "cell_type": "code",
   "execution_count": 5,
   "metadata": {},
   "outputs": [
    {
     "ename": "DimensionMismatch",
     "evalue": "DimensionMismatch: cross product is only defined for vectors of length 3",
     "output_type": "error",
     "traceback": [
      "DimensionMismatch: cross product is only defined for vectors of length 3\n",
      "\n",
      "Stacktrace:\n",
      " [1] cross(a::Vector{Int64}, b::Vector{Int64})\n",
      "   @ LinearAlgebra /opt/julia-1.8.3/share/julia/stdlib/v1.8/LinearAlgebra/src/generic.jl:312\n",
      " [2] top-level scope\n",
      "   @ /workspaces/Notes/Julia.ipynb:1"
     ]
    }
   ],
   "source": [
    "cross([1,2], [3,4])"
   ]
  },
  {
   "cell_type": "code",
   "execution_count": null,
   "metadata": {},
   "outputs": [],
   "source": []
  }
 ],
 "metadata": {
  "kernelspec": {
   "display_name": "Julia 1.8.3",
   "language": "julia",
   "name": "julia-1.8"
  },
  "language_info": {
   "file_extension": ".jl",
   "mimetype": "application/julia",
   "name": "julia",
   "version": "1.8.3"
  },
  "orig_nbformat": 4
 },
 "nbformat": 4,
 "nbformat_minor": 2
}
